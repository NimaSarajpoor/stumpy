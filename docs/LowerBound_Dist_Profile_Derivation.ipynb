{
 "cells": [
  {
   "cell_type": "markdown",
   "id": "78a48e7c",
   "metadata": {},
   "source": [
    "In this notebook, we would like to derive the eq(2) of the paper [VALMOD](https://arxiv.org/pdf/2008.13447.pdf)."
   ]
  },
  {
   "cell_type": "markdown",
   "id": "5f999789",
   "metadata": {},
   "source": [
    "**The idea goes as follows:** <br>\n",
    "\"Given the distance profile of $T_{j,m}$, how can we find a lower bound for distance profile of $T_{j,m+k}$\", where $T_{j,m+k}$ represents a sequence that starts from the same index `j` with length `m+k`?"
   ]
  },
  {
   "cell_type": "markdown",
   "id": "03836054",
   "metadata": {},
   "source": [
    "In other words, can we find **Lower Bound (LB)** for $d(T_{j,m+k}, T_{i,m+k})$ only by help of $T_{j,m}$, $T_{i,m}$, and $T_{j,m+k}$? (So, the last `k` elements of $T_{i,m+k}$ are unknown)"
   ]
  },
  {
   "cell_type": "markdown",
   "id": "3b5c8c5a",
   "metadata": {},
   "source": [
    "## 2-1 Non-normalized distance"
   ]
  },
  {
   "cell_type": "markdown",
   "id": "1f7e294e",
   "metadata": {},
   "source": [
    "\n",
    "$$\n",
    "\\begin{align}\n",
    "    d^{(m+k)}_{j,i} ={}& \n",
    "        \\sqrt[\\leftroot{5}\\uproot{5}p]{\n",
    "                \\sum\\limits_{t=1}^{m+k}{\n",
    "                \\bigg\\lvert{\n",
    "                 T[i+t-1] - T[j+t-1]\n",
    "                 }\\bigg\\rvert\n",
    "                }^{p}\n",
    "                }\n",
    "    \\\\\n",
    "    ={}&\n",
    "    \\sqrt[\\leftroot{5}\\uproot{5}p]{\n",
    "        \\sum\\limits_{t=1}^{m}{\n",
    "            \\bigg\\lvert{\n",
    "            T[i+t-1] - T[j+t-1]\n",
    "            }\\bigg\\rvert\n",
    "         }^{p}\n",
    "         +\n",
    "         \\sum\\limits_{t=m+1}^{m+k}{\n",
    "            \\bigg\\lvert{\n",
    "            T[i+t-1] - T[j+t-1]\n",
    "            }\\bigg\\rvert\n",
    "         }^{p}\n",
    "      }\n",
    "    \\\\\n",
    "    \\geq{}&\n",
    "    \\sqrt[\\leftroot{5}\\uproot{5}p]{\n",
    "        \\sum\\limits_{t=1}^{m}{\n",
    "            \\bigg\\lvert{\n",
    "            T[i+t-1] - T[j+t-1]\n",
    "            }\\bigg\\rvert\n",
    "         }^{p}\n",
    "      }\n",
    "    \\\\\n",
    "\\end{align}\n",
    "$$\n"
   ]
  },
  {
   "cell_type": "markdown",
   "id": "5a4d2b3a",
   "metadata": {},
   "source": [
    "Therefore:"
   ]
  },
  {
   "cell_type": "markdown",
   "id": "dc578dbd",
   "metadata": {},
   "source": [
    "\n",
    "$$\n",
    "\\begin{align}\n",
    "    d^{(m+k)}_{j,i} \\geq{}&\n",
    "    d^{(m)}_{j,i}\n",
    "\\end{align}\n",
    "$$\n"
   ]
  },
  {
   "cell_type": "markdown",
   "id": "b51f7143",
   "metadata": {},
   "source": [
    "In other words, we can simply use the p-norm distance between $T_{i,m}$ and $T_{j,m}$ as the lower-bound value for the distance between $T_{i,m+k}$ and $T_{j,m+k}$."
   ]
  },
  {
   "cell_type": "markdown",
   "id": "0b539ca8",
   "metadata": {},
   "source": [
    "## 2-2 Normalized distance"
   ]
  },
  {
   "cell_type": "markdown",
   "id": "91ab346f",
   "metadata": {},
   "source": [
    "In z-normalized distance, one should note that $d^{(m+k)}_{j,i} \\geq d^{(m)}_{j,i}$ is not necessarily correct. In other words, the distance between two subsequences does not necessarily increase by making them longer. However, it seems there is a very nice relationship between $d_{j,i}^{(m)}$ and the lower-bound value of $d_{j,i}^{(m+k)}$."
   ]
  },
  {
   "cell_type": "markdown",
   "id": "d60acabc",
   "metadata": {},
   "source": [
    "### Derving Equation (2)"
   ]
  },
  {
   "cell_type": "markdown",
   "id": "1d3734ed",
   "metadata": {},
   "source": [
    "\n",
    "$$\n",
    "\\begin{align}\n",
    "    d^{(m+k)}_{j,i} ={}& \n",
    "        \\sqrt{\\sum\\limits_{t=1}^{m+k}{{\n",
    "        \\left(\\frac{T[i+t-1] - \\mu_{i,m+k}}{\\sigma_{i,m+k}} - \\frac{T[j+t-1] - \\mu_{j,m+k}}{\\sigma_{j,m+k}}\\right)\n",
    "        }^{2}}} \n",
    "    \\\\\n",
    "    d^{(m+k)}_{j,i} ={}& \n",
    "        \\sqrt{\n",
    "        \\sum\\limits_{t=1}^{m}{{\n",
    "        \\left(\\frac{T[i+t-1] - \\mu_{i,m+k}}{\\sigma_{i,m+k}} - \\frac{T[j+t-1] - \\mu_{j,m+k}}{\\sigma_{j,m+k}}\\right)\n",
    "        }^{2}}\n",
    "        +\n",
    "        \\sum\\limits_{t=m+1}^{m+k}{{\n",
    "        \\left(\\frac{T[i+t-1] - \\mu_{i,m+k}}{\\sigma_{i,m+k}} - \\frac{T[j+t-1] - \\mu_{j,m+k}}{\\sigma_{j,m+k}}\\right)\n",
    "        }^{2}}\n",
    "        } \n",
    "    \\\\\n",
    "    \\geq{}&\n",
    "        \\sqrt{\\sum\\limits_{t=1}^{m}{{\n",
    "        \\left(\\frac{T[i+t-1] - \\mu_{i,m+k}}{\\sigma_{i,m+k}} - \\frac{T[j+t-1] - \\mu_{j,m+k}}{\\sigma_{j,m+k}}\\right)\n",
    "        }^{2}}}\n",
    "    \\\\\n",
    "\\end{align}\n",
    "$$\n"
   ]
  },
  {
   "cell_type": "markdown",
   "id": "72a47d5c",
   "metadata": {},
   "source": [
    "So, the Lower-Bound (LB) value for $d_{j,i}^{(m+k)}$ can be obtained by minimizing the right-hand side:"
   ]
  },
  {
   "cell_type": "markdown",
   "id": "ade9e7e4",
   "metadata": {},
   "source": [
    "\n",
    "$$\n",
    "\\begin{align}\n",
    "    LB ={}& \n",
    "        \\min \\sqrt{\\sum\\limits_{t=1}^{m}{{\n",
    "        \\left(\\frac{T[i+t-1] - \\mu_{i,m+k}}{\\sigma_{i,m+k}} - \\frac{T[j+t-1] - \\mu_{j,m+k}}{\\sigma_{j,m+k}}\\right)\n",
    "        }^{2}}} \n",
    "    \\\\\n",
    "    ={}&\n",
    "    \\min \\sqrt{\\sum\\limits_{t=1}^{m}{{\n",
    "        \\left[\\frac{1}{\\sigma_{j,m+k}}\n",
    "            \\left(\n",
    "            \\frac{T[i+t-1] - \\mu_{i,m+k}}{\\frac{\\sigma_{i,m+k}}{\\sigma_{j,m+k}}} - \\frac{T[j+t-1] - \\mu_{j,m+k}}{1}\n",
    "            \\right)\n",
    "        \\right]\n",
    "        }^{2}}}\n",
    "    \\\\\n",
    "    ={}&\n",
    "    \\min \\sqrt{\n",
    "        \\sum\\limits_{t=1}^{m}{{\n",
    "            \\left[\n",
    "                \\frac{\\sigma_{j,m}}{\\sigma_{j,m}}\n",
    "                \\frac{1}{\\sigma_{j,m+k}}\n",
    "                \\left(\n",
    "                     \\frac{T[i+t-1] - \\mu_{i,m+k}}{\\frac{\\sigma_{i,m+k}}{\\sigma_{j,m+k}}} \n",
    "                     - \n",
    "                     \\frac{T[j+t-1] - \\mu_{j,m+k}}{1}\n",
    "                 \\right)\n",
    "            \\right]\n",
    "                }^{2}\n",
    "        }\n",
    "        }\n",
    "    \\\\\n",
    "    ={}&\n",
    "    \\min \\sqrt{\n",
    "        \\sum\\limits_{t=1}^{m}{{\n",
    "            \\left[\n",
    "                \\frac{\\sigma_{j,m}}{\\sigma_{j,m+k}}\n",
    "                \\left(\n",
    "                     \\frac{T[i+t-1] - \\mu_{i,m+k}}{\\sigma_{j,m}\\frac{\\sigma_{i,m+k}}{\\sigma_{j,m+k}}} \n",
    "                     - \n",
    "                     \\frac{T[j+t-1] - \\mu_{j,m+k}}{\\sigma_{j,m}}\n",
    "                 \\right)\n",
    "            \\right]\n",
    "                }^{2}\n",
    "        }\n",
    "        }\n",
    "    \\\\\n",
    "    ={}&\n",
    "    \\frac{\\sigma_{j,m}}{\\sigma_{j,m+k}} \\times \\min \\sqrt{\\sum\\limits_{t=1}^{m}{\\left(\\frac{T[i+t-1] - \\mu_{i,m+k}}{\\frac{\\sigma_{j,m} \\sigma_{i,m+k}}{\\sigma_{j,m+k}}} - \\frac{T[j+t-1] - \\mu_{j,m+k}}{\\sigma_{j,m}}\\right)^{2}}} \\quad(1)\n",
    "    \\\\\n",
    "\\end{align}\n",
    "$$\n"
   ]
  },
  {
   "cell_type": "markdown",
   "id": "d410ec5a",
   "metadata": {},
   "source": [
    "**Note:** that the unknown variables are $\\mu_{i,m+k}$ and $\\sigma_{i,m+k}$. Also, note that all $\\mu$ and $\\sigma$ values are **constant** regardless of them being known or unknown. <br>\n",
    "\n",
    "We subtitute $\\mu_{i,m+k}$ with $\\mu^{'}$, and $\\frac{\\sigma_{j,m} \\sigma_{i,m+k}}{\\sigma_{j,m+k}}$ with $\\sigma^{'}$. Note that the unknown variables are now $\\mu^{'}$ and $\\sigma^{'}$. <br>\n",
    "\n",
    "Also, we define $\\alpha_{t}$ as:"
   ]
  },
  {
   "cell_type": "markdown",
   "id": "3cbc6e7f",
   "metadata": {},
   "source": [
    "\n",
    "$$\n",
    "\\begin{align}\n",
    "    \\alpha_{t} \\triangleq{}& \n",
    "        {\n",
    "        \\frac{T[i+t-1] - \\mu^{'}}{\\sigma^{'}} - \\frac{T[j+t-1] - \\mu_{j,m+k}}{\\sigma_{j,m}}\n",
    "        } \n",
    "    \\\\\n",
    "\\end{align}\n",
    "$$\n"
   ]
  },
  {
   "cell_type": "markdown",
   "id": "7f3eea94",
   "metadata": {},
   "source": [
    "Therefore, we have:"
   ]
  },
  {
   "cell_type": "markdown",
   "id": "a293197c",
   "metadata": {},
   "source": [
    "\n",
    "$$\n",
    "\\begin{align}\n",
    "    LB ={}& \n",
    "        \\frac{\\sigma_{j,m}}{\\sigma_{j,m+k}}\n",
    "        \\sqrt{\\min f(\\mu^{'},\\sigma^{'})} \\quad (2)\n",
    "    \\\\\n",
    "    f(\\mu^{'}, \\sigma^{'}) ={}&\n",
    "    \\sum \\limits_{t=1}^{m} {\\alpha_t^{2}} \\quad (3)\n",
    "    \\\\\n",
    "    \\alpha_{t} ={}& \n",
    "        \\frac{\n",
    "        T[i+t-1] - \\mu^{'}\n",
    "        }{\n",
    "        \\sigma^{'}\n",
    "        } \n",
    "        - \n",
    "        \\frac{\n",
    "        T[j+t-1] - \\mu_{j,m+k}\n",
    "        }{\n",
    "        \\sigma_{j,m}\n",
    "        } \\quad (4)\n",
    "    \\\\\n",
    "\\end{align}\n",
    "$$\n"
   ]
  },
  {
   "cell_type": "markdown",
   "id": "e7564257",
   "metadata": {},
   "source": [
    "**To find extrema points, we first need to find the critical point(s) by solving the single system of equations below.**  In other words, we are looking for $\\mu^{'}$ and $\\sigma^{'}$ that satisfies both equations below:\n",
    "\n"
   ]
  },
  {
   "cell_type": "markdown",
   "id": "c2de39a8",
   "metadata": {},
   "source": [
    "\n",
    "$$\n",
    "\\begin{align}\n",
    "    \\frac{\\partial{f}}{\\partial{\\mu^{'}}} = 0 \\quad (5)\n",
    "    \\\\\n",
    "    \\frac{\\partial{f}}{\\partial{\\sigma^{'}}} = 0 \\quad (6)\n",
    "    \\\\\n",
    "\\end{align}\n",
    "$$\n"
   ]
  },
  {
   "cell_type": "markdown",
   "id": "a3656f16",
   "metadata": {},
   "source": [
    "**Solving $\\frac{\\partial{f}}{\\partial{\\mu^{'}}} = 0$:**"
   ]
  },
  {
   "cell_type": "markdown",
   "id": "8b7c8a81",
   "metadata": {},
   "source": [
    "\n",
    "$$\n",
    "\\begin{align}\n",
    "    \\frac{\\partial{f}}{\\partial{\\mu^{'}}} ={}& \n",
    "    \\sum \\limits_{t=1}^{m}{\n",
    "        \\frac{\\partial{(\\alpha_{t}^{2})}}{\\partial{\\mu^{'}}}\n",
    "    }\n",
    "    \\\\\n",
    "    \\frac{\\partial{f}}{\\partial{\\mu^{'}}} ={}& \n",
    "    \\sum \\limits_{t=1}^{m}{\n",
    "        2\\frac{\\partial{(\\alpha_{t})}}{\\partial{\\mu^{'}}}\\alpha_{t}\n",
    "    }\n",
    "    \\\\\n",
    "    \\frac{\\partial{f}}{\\partial{\\mu^{'}}} ={}&\n",
    "    \\sum \\limits_{t=1}^{m} {\n",
    "    2\\left(\n",
    "    \\frac{-1}{\\sigma^{'}}\n",
    "    \\right)\n",
    "    \\alpha_{t}} \n",
    "    \\\\\n",
    "    0 ={}&\n",
    "    \\frac{-2}{\\sigma^{'}}\\sum \\limits_{t=1}^{m}{\\alpha_{t}}\n",
    "    \\\\\n",
    "\\end{align}\n",
    "$$\n"
   ]
  },
  {
   "cell_type": "markdown",
   "id": "6ef98f3f",
   "metadata": {},
   "source": [
    "Please note that $\\sigma^{'}$ is constant and thus it was factered out of the summation. <br>\n",
    "This gives us:"
   ]
  },
  {
   "cell_type": "markdown",
   "id": "cdc74b21",
   "metadata": {},
   "source": [
    "\n",
    "$$\n",
    "\\begin{align}\n",
    "    \\sum \\limits_{t=1}^{m}{\\alpha_{t}} = 0 \\quad (7)\n",
    "\\end{align}\n",
    "$$\n"
   ]
  },
  {
   "cell_type": "markdown",
   "id": "0aad71e0",
   "metadata": {},
   "source": [
    "**Exapanding (7):**"
   ]
  },
  {
   "cell_type": "markdown",
   "id": "0d3f4dfa",
   "metadata": {},
   "source": [
    "\n",
    "$$\n",
    "\\begin{align}\n",
    "    \\sum \\limits_{t=1}^{m} \\alpha_{t} ={}& \n",
    "    0\n",
    "    \\\\\n",
    "    \\sum \\limits_{t=1}^{m} {\\frac{T[i+t-1] - \\mu^{'}}{\\sigma^{'}} - \\frac{T[j+t-1] - \\mu_{j,m+k}}{\\sigma_{j,m}}} ={}& \n",
    "    0\n",
    "    \\\\\n",
    "    \\frac{1}{\\sigma^{'}}\\left(\\sum \\limits_{t=1}^{m}T[i+t-1] - \\sum \\limits_{t=1}^{m} \\mu^{'}\\right) - \n",
    "    \\frac{1}{\\sigma_{j,m}}\\left(\\sum \\limits_{t=1}^{m}T[j+t-1] - \\sum \\limits_{t=1}^{m} \\mu_{j,m+k}\\right) ={}& \n",
    "    0\n",
    "    \\\\\n",
    "    \\frac{1}{\\sigma^{'}}\\left(m\\mu_{i,m} - m\\mu^{'}\\right) - \n",
    "    \\frac{1}{\\sigma_{j,m}}\\left(m\\mu_{j,m} - m\\mu_{j,m+k}\\right) ={}& \n",
    "    0\n",
    "    \\\\\n",
    "    \\sigma_{j,m}\\left(\\mu_{i,m} - \\mu^{'}\\right) - \n",
    "    \\sigma^{'}\\left(\\mu_{j,m} - \\mu_{j,m+k}\\right) ={}& \n",
    "    0\n",
    "    \\\\\n",
    "    \\sigma_{j,m} \\mu^{'} + \n",
    "    \\left(\\mu_{j,m} - \\mu_{j,m+k}\\right)\\sigma^{'} - \\sigma_{j,m}\\mu_{i,m} ={}& \n",
    "    0 \\quad (8)\n",
    "\\end{align} \n",
    "$$\n"
   ]
  },
  {
   "cell_type": "markdown",
   "id": "393ddb8f",
   "metadata": {},
   "source": [
    "**Solving $\\frac{\\partial{f}}{\\partial{\\sigma^{'}}} = 0$:**"
   ]
  },
  {
   "cell_type": "markdown",
   "id": "4eae27d8",
   "metadata": {},
   "source": [
    "\n",
    "$$\n",
    "\\begin{align}\n",
    "    \\frac{\\partial{f}}{\\partial{\\sigma^{'}}} ={}& \n",
    "    \\sum \\limits_{t=1}^{m}{\n",
    "        \\frac{\\partial{(\\alpha_{t}^{2})}}{\\partial{\\sigma^{'}}}\n",
    "    }\n",
    "    \\\\\n",
    "    \\frac{\\partial{f}}{\\partial{\\sigma^{'}}} ={}& \n",
    "    \\sum \\limits_{t=1}^{m}{\n",
    "        2\\frac{\\partial{(\\alpha_{t})}}{\\partial{\\sigma^{'}}}\\alpha_{t}\n",
    "    }\n",
    "    \\\\\n",
    "    \\frac{\\partial{f}}{\\partial{\\sigma^{'}}} ={}&\n",
    "    \\sum \\limits_{t=1}^{m} {\n",
    "    2 \\left(\n",
    "        \\frac{-\\left({T[i+t-1] - \\mu^{'}}\\right)}{\\sigma^{'2}}\n",
    "    \\right)\n",
    "    \\alpha_{t}} \n",
    "    \\\\\n",
    "    \\frac{\\partial{f}}{\\partial{\\sigma^{'}}} ={}&\n",
    "    \\frac{-2}{\\sigma^{'2}}\\sum \\limits_{t=1}^{m}{\\left({T[i+t-1] - \\mu^{'}}\\right) \\alpha_{t}}\n",
    "    \\\\\n",
    "    \\frac{\\partial{f}}{\\partial{\\sigma^{'}}} ={}&\n",
    "    \\frac{-2}{\\sigma^{'2}}\\sum \\limits_{t=1}^{m}{\\left({T[i+t-1]\\alpha_{t} - \\mu^{'}\\alpha_{t}}\\right)}\n",
    "    \\\\\n",
    "    \\frac{\\partial{f}}{\\partial{\\sigma^{'}}} ={}&\n",
    "    \\frac{-2}{\\sigma^{'2}}\n",
    "    {\\left(\n",
    "    \\sum \\limits_{t=1}^{m}{T[i+t-1]\\alpha_{t}} \n",
    "    - \n",
    "    \\sum \\limits_{t=1}^{m}{\\mu^{'}\\alpha_{t}}\n",
    "    \\right)\n",
    "    }\n",
    "    \\\\\n",
    "    \\frac{\\partial{f}}{\\partial{\\sigma^{'}}} ={}&\n",
    "    \\frac{-2}{\\sigma^{'2}}\n",
    "    {\\left(\n",
    "    \\sum \\limits_{t=1}^{m}{T[i+t-1]\\alpha_{t}} \n",
    "    - \n",
    "    \\mu^{'}\\sum \\limits_{t=1}^{m}{\\alpha_{t}}\n",
    "    \\right)\n",
    "    }\n",
    "    \\\\\n",
    "    0 ={}&\n",
    "    \\frac{-2}{\\sigma^{'2}}\n",
    "    {\\left(\n",
    "    \\sum \\limits_{t=1}^{m}{T[i+t-1]\\alpha_{t}} \n",
    "    - \n",
    "    \\mu^{'}\\cdot 0\n",
    "    \\right)\n",
    "    }\n",
    "    \\\\\n",
    "    0 ={}&\n",
    "    \\frac{-2}{\\sigma^{'2}}\n",
    "    {\n",
    "    \\sum \\limits_{t=1}^{m}{T[i+t-1]\\alpha_{t}} \n",
    "    }\n",
    "\\end{align}\n",
    "$$\n"
   ]
  },
  {
   "cell_type": "markdown",
   "id": "71ea26a2",
   "metadata": {},
   "source": [
    "Note: In the calculations above, we substitute 0 for  $\\sum \\limits_{t=1}^{m}{\\alpha_{t}}$ according to eq(7)."
   ]
  },
  {
   "cell_type": "markdown",
   "id": "c3b80336",
   "metadata": {},
   "source": [
    "And, this gives:"
   ]
  },
  {
   "cell_type": "markdown",
   "id": "c398718a",
   "metadata": {},
   "source": [
    "\n",
    "$$\n",
    "\\begin{align}\n",
    "    \\sum \\limits_{t=1}^{m}{T[i+t-1]\\alpha_{t}}  ={}&\n",
    "    0 \\quad (9)\n",
    "\\end{align}\n",
    "$$\n"
   ]
  },
  {
   "cell_type": "markdown",
   "id": "4a34e737",
   "metadata": {},
   "source": [
    "**Expanding (9):**"
   ]
  },
  {
   "cell_type": "markdown",
   "id": "de3f6023",
   "metadata": {},
   "source": [
    "\n",
    "$$\n",
    "\\begin{align}\n",
    "    \\sum \\limits_{t=1}^{m} T[i+t-1] \\left(\\frac{T[i+t-1] - \\mu^{'}}{\\sigma^{'}} - \\frac{T[j+t-1] - \\mu_{j,m+k}}{\\sigma_{j,m}}\\right) = 0\n",
    "    \\\\\n",
    "\\end{align}\n",
    "$$\n"
   ]
  },
  {
   "cell_type": "markdown",
   "id": "1ce7c9be",
   "metadata": {},
   "source": [
    "\n",
    "$$\n",
    "\\begin{align}\n",
    "    \\sum\\limits_{t=1}^{m}T[i+t-1] \n",
    "    \\left(\n",
    "    \\frac{T[i+t-1] - \\mu^{'}}{\\sigma^{'}}\n",
    "    \\right)\n",
    "    - \n",
    "    \\sum\\limits_{t=1}^{m}T[i+t-1] \n",
    "    \\left(\n",
    "    \\frac{T[j+t-1] - \\mu_{j,m+k}}{\\sigma_{j,m}}\n",
    "    \\right)\n",
    "    ={}& 0\n",
    "    \\\\\n",
    "    \\\\\n",
    "    \\frac{1}{\\sigma^{'}}\n",
    "    \\sum\\limits_{t=1}^{m}T[i+t-1] \n",
    "    \\left(\n",
    "    T[i+t-1] - \\mu^{'}\n",
    "    \\right)\n",
    "    - \n",
    "    \\frac{1}{\\sigma_{j,m}}\n",
    "    \\sum\\limits_{t=1}^{m}T[i+t-1] \n",
    "    \\left(\n",
    "    T[j+t-1] - \\mu_{j,m+k}\n",
    "    \\right)\n",
    "    ={}& 0\n",
    "    \\\\\n",
    "    \\\\\n",
    "    \\frac{1}{\\sigma^{'}}\n",
    "    \\left(\n",
    "    \\sum\\limits_{t=1}^{m}T[i+t-1]T[i+t-1]\n",
    "    -\n",
    "    \\sum\\limits_{t=1}^{m}T[i+t-1]\\mu^{'}\n",
    "    \\right) \n",
    "    - \\\\\n",
    "    \\frac{1}{\\sigma_{j,m}}\n",
    "    \\left(\n",
    "    {\\sum\\limits_{t=1}^{m}T[i+t-1]T[j+t-1] \n",
    "    -\\sum \\limits_{t=1}^{m}T[i+t-1]\\mu_{j,m+k}\n",
    "    }\n",
    "    \\right) \n",
    "    ={}& \n",
    "    0\n",
    "    \\\\\n",
    "    \\\\\n",
    "    \\frac{1}{\\sigma^{'}}\n",
    "    \\left(\n",
    "    \\sum \\limits_{t=1}^{m}T[i+t-1]T[i+t-1]\n",
    "    -\n",
    "    \\mu^{'}\\sum\\limits_{t=1}^{m} T[i+t-1]\n",
    "    \\right) \n",
    "    - \\\\\n",
    "    \\frac{1}{\\sigma_{j,m}}\n",
    "    \\left(\n",
    "    \\sum\\limits_{t=1}^{m}T[i+t-1]T[j+t-1]\n",
    "    -\n",
    "    \\mu_{j,m+k}\\sum \\limits_{t=1}^{m}T[i+t-1]\n",
    "    \\right) \n",
    "    ={}& \n",
    "    0 \\quad (*)\n",
    "\\end{align} \n",
    "$$\n"
   ]
  },
  {
   "cell_type": "markdown",
   "id": "0c839937",
   "metadata": {},
   "source": [
    "Now, recall that the pearson correlation $\\rho_{ij}$ between two subsequenes of lenght $m$ is defined as follows:"
   ]
  },
  {
   "cell_type": "markdown",
   "id": "82bc9b8e",
   "metadata": {},
   "source": [
    "\n",
    "$$\n",
    "\\begin{align}\n",
    "    \\rho_{ij} = \\frac{\\sum \\limits_{t=1}^{m}T[i+t-1]T[j+t-1] - m\\mu_{i,m}\\mu_{j,m} }{m\\sigma_{i,m}\\sigma_{j,m}}\n",
    "    \\\\\n",
    "\\end{align}\n",
    "$$\n"
   ]
  },
  {
   "cell_type": "markdown",
   "id": "4880c751",
   "metadata": {},
   "source": [
    "Note: we can rearrange the pearson correlation equation as: <br> \n",
    "$\\sum \\limits_{t=1}^{m}T[i+t-1]T[j+t-1] = m\\rho\\sigma_{i,m}\\sigma_{j,m} + m\\mu_{i,m}\\mu_{j,m}$ (\\*\\*)"
   ]
  },
  {
   "cell_type": "markdown",
   "id": "a01fd0cc",
   "metadata": {},
   "source": [
    "**Therefore, with help of (\\*\\*), we continue our calculation from eq(\\*):**"
   ]
  },
  {
   "cell_type": "markdown",
   "id": "1543b1f4",
   "metadata": {},
   "source": [
    "\n",
    "$$\n",
    "\\begin{align}\n",
    "    \\frac{1}{\\sigma^{'}}\n",
    "    \\left[\n",
    "    \\left(\n",
    "    m\\rho_{ii}\\sigma_{i,m}\\sigma_{i,m} + m\\mu_{i,m}\\mu_{i,m}\n",
    "    \\right)\n",
    "    - \n",
    "    \\mu^{'} \\cdot m\\mu_{i,m}\n",
    "    \\right] \n",
    "    - \n",
    "    \\frac{1}{\\sigma_{j,m}}\n",
    "    \\left[\n",
    "    \\left(\n",
    "    m\\rho_{ij}\\sigma_{i,m}\\sigma_{j,m} \n",
    "    + \n",
    "    m\\mu_{i,m}\\mu_{j,m}\n",
    "    \\right)\n",
    "    - \n",
    "    \\mu_{j,m+k} \\cdot m\\mu_{i,m}\n",
    "    \\right]\n",
    "    ={}& 0\n",
    "    \\\\\n",
    "    \\frac{1}{\\sigma^{'}}\n",
    "    \\left[\n",
    "    \\left(\n",
    "    m\\cdot1\\cdot\\sigma_{i,m}^{2} + m\\mu_{i,m}^{2}\n",
    "    \\right)\n",
    "    - \n",
    "    \\mu^{'} \\cdot m\\mu_{i,m}\n",
    "    \\right] \n",
    "    - \n",
    "    \\frac{1}{\\sigma_{j,m}}\n",
    "    \\left[\n",
    "    \\left(\n",
    "    m\\rho_{ij}\\sigma_{i,m}\\sigma_{j,m} \n",
    "    + \n",
    "    m\\mu_{i,m}\\mu_{j,m}\n",
    "    \\right)\n",
    "    - \n",
    "    \\mu_{j,m+k} \\cdot m\\mu_{i,m}\n",
    "    \\right]\n",
    "    ={}& 0\n",
    "\\end{align}\n",
    "$$\n"
   ]
  },
  {
   "cell_type": "markdown",
   "id": "ad80f924",
   "metadata": {},
   "source": [
    "\n",
    "$$\n",
    "\\begin{align}\n",
    "    \\frac{1}{\\sigma^{'}\\sigma_{j,m}}\n",
    "    \\left[\n",
    "    \\sigma_{j,m}\\left(\n",
    "    m\\sigma_{i,m}^{2} \n",
    "    + \n",
    "    m\\mu_{i,m}^{2} \n",
    "    - \n",
    "    \\mu^{'} \\cdot m\\mu_{i,m}\n",
    "    \\right) \n",
    "    - \n",
    "    \\sigma^{'}\\left(\n",
    "    {m\\rho_{ij}\\sigma_{i,m}\\sigma_{j,m} \n",
    "    +\n",
    "    m\\mu_{i,m}\\mu_{j,m} \n",
    "    -\n",
    "    \\mu_{j,m+k} \\cdot m\\mu_{i,m}}\n",
    "    \\right)\n",
    "    \\right] ={}& 0\n",
    "    \\\\\n",
    "    \\frac{m}{\n",
    "    \\sigma^{'}\\sigma_{j,m}\n",
    "    }\n",
    "    \\left[\n",
    "    \\sigma_{j,m}\\left(\n",
    "    \\sigma_{i,m}^{2} \n",
    "    + \n",
    "    \\mu_{i,m}^{2} \n",
    "    - \n",
    "    \\mu^{'} \\mu_{i,m}\n",
    "    \\right) \n",
    "    - \n",
    "    \\sigma^{'}\\left(\n",
    "    {\\rho_{ij}\\sigma_{i,m}\\sigma_{j,m} \n",
    "    +\n",
    "    \\mu_{i,m}\\mu_{j,m}\n",
    "    -\n",
    "    \\mu_{j,m+k} \\mu_{i,m}}\n",
    "    \\right)\n",
    "    \\right]\n",
    "    ={}& 0\n",
    "    \\\\\n",
    "    \\sigma_{j,m}\\left(\n",
    "    \\sigma_{i,m}^{2} \n",
    "    + \n",
    "    \\mu_{i,m}^{2} \n",
    "    - \n",
    "    \\mu^{'} \\mu_{i,m}\n",
    "    \\right) \n",
    "    - \n",
    "    \\sigma^{'}\\left(\n",
    "    {\\rho_{ij}\\sigma_{i,m}\\sigma_{j,m} \n",
    "    +\n",
    "    \\mu_{i,m}\\mu_{j,m}\n",
    "    -\n",
    "    \\mu_{j,m+k} \\mu_{i,m}}\n",
    "    \\right)\n",
    "    ={}& 0\n",
    "    \\\\\n",
    "    \\sigma_{j,m}\\left(\n",
    "    \\sigma_{i,m}^{2} \n",
    "    + \n",
    "    \\mu_{i,m}^{2}\n",
    "    \\right)\n",
    "    - \n",
    "    \\sigma_{j,m}\\left(\n",
    "    \\mu^{'} \\mu_{i,m}\n",
    "    \\right) \n",
    "    - \n",
    "    \\sigma^{'}\\left(\n",
    "    {\\rho_{ij}\\sigma_{i,m}\\sigma_{j,m} \n",
    "    +\n",
    "    \\mu_{i,m}\\mu_{j,m}\n",
    "    -\n",
    "    \\mu_{j,m+k} \\mu_{i,m}}\n",
    "    \\right)\n",
    "    ={}& 0\n",
    "    \\\\\n",
    "    - \\sigma_{j,m}\\left(\n",
    "    \\sigma_{i,m}^{2} \n",
    "    + \n",
    "    \\mu_{i,m}^{2}\n",
    "    \\right)\n",
    "    + \n",
    "    \\sigma_{j,m}\\left(\n",
    "    \\mu^{'} \\mu_{i,m}\n",
    "    \\right) \n",
    "    +  \n",
    "    \\sigma^{'}\\left(\n",
    "    {\\rho_{ij}\\sigma_{i,m}\\sigma_{j,m} \n",
    "    +\n",
    "    \\mu_{i,m}\\mu_{j,m}\n",
    "    -\n",
    "    \\mu_{j,m+k} \\mu_{i,m}}\n",
    "    \\right)\n",
    "    ={}& 0\n",
    "\\end{align}\n",
    "$$\n"
   ]
  },
  {
   "cell_type": "markdown",
   "id": "1d37830b",
   "metadata": {},
   "source": [
    "\n",
    "$$\n",
    "\\begin{align}\n",
    "    \\mu_{i,m}\\sigma_{j,m}\\mu^{'} + (\\rho_{ij}\\sigma_{i,m}\\sigma_{j,m} + \\mu_{i,m}\\mu_{j,m} - \\mu_{i,m}\\mu_{j,m+k})\\sigma^{'} - \\sigma_{j,m}(\\mu_{i,m}^{2} + \\sigma_{i,m}^{2}) = 0 \\quad (10)\n",
    "    \\\\\n",
    "\\end{align}\n",
    "$$\n"
   ]
  },
  {
   "cell_type": "markdown",
   "id": "4ebe4a56",
   "metadata": {},
   "source": [
    "In the calculations above, we subsitute 1 for $\\rho_{ii}$ as the Pearson Correlation of a subsequenec with itself is 1."
   ]
  },
  {
   "cell_type": "markdown",
   "id": "6adaea06",
   "metadata": {},
   "source": [
    "**Now, it is time to solve equations (8) and (10), provided below:**"
   ]
  },
  {
   "cell_type": "markdown",
   "id": "715c3679",
   "metadata": {},
   "source": [
    "\n",
    "$$\n",
    "\\begin{align}\n",
    "\\sigma_{j,m} \\mu^{'} + \n",
    "    \\left(\\mu_{j,m} - \\mu_{j,m+k}\\right)\\sigma^{'} - \\sigma_{j,m}\\mu_{i,m} \n",
    "    ={}& 0 \\quad(8)\n",
    "    \\\\\n",
    "    \\mu_{i,m}\\sigma_{j,m}\\mu^{'} + (\\rho_{ij}\\sigma_{i,m}\\sigma_{j,m} + \\mu_{i,m}\\mu_{j,m} - \\mu_{i,m}\\mu_{j,m+k})\\sigma^{'} - \\sigma_{j,m}(\\mu_{i,m}^{2} + \\sigma_{i,m}^{2}) \n",
    "    ={}& 0 \\quad(10)\n",
    "    \\\\\n",
    "\\end{align}\n",
    "$$\n"
   ]
  },
  {
   "cell_type": "markdown",
   "id": "00d6276a",
   "metadata": {},
   "source": [
    "Note that in the system of equations above, the unknown variables are $\\mu^{'}$ and $\\sigma^{'}$, and the remaining ones are known."
   ]
  },
  {
   "cell_type": "markdown",
   "id": "2561aacf",
   "metadata": {},
   "source": [
    "\n",
    "$$\n",
    "\\begin{align}\n",
    "-\\mu_{i,m}\\left[\n",
    "    \\sigma_{j,m} \\mu^{'} \n",
    "    + \n",
    "    \\left(\\mu_{j,m} - \\mu_{j,m+k}\\right)\\sigma^{'} \n",
    "    - \n",
    "    \\sigma_{j,m}\\mu_{i,m} \n",
    "    \\right]\n",
    "    ={}& 0 \\quad(8')\n",
    "    \\\\\n",
    "    \\mu_{i,m}\\sigma_{j,m}\\mu^{'} + (\\rho_{ij}\\sigma_{i,m}\\sigma_{j,m} + \\mu_{i,m}\\mu_{j,m} - \\mu_{i,m}\\mu_{j,m+k})\\sigma^{'} - \\sigma_{j,m}(\\mu_{i,m}^{2} + \\sigma_{i,m}^{2}) \n",
    "    ={}& 0 \\quad(10)\n",
    "    \\\\\n",
    "\\end{align}\n",
    "$$\n"
   ]
  },
  {
   "cell_type": "markdown",
   "id": "3341901c",
   "metadata": {},
   "source": [
    "$(8')+(10)$ gives:"
   ]
  },
  {
   "cell_type": "markdown",
   "id": "f54ab003",
   "metadata": {},
   "source": [
    "\n",
    "$$\n",
    "\\begin{align}\n",
    "-\\mu_{i,m}\\sigma_{j,m} \\mu^{'} - \n",
    "    \\mu_{i,m}\\mu_{j,m}\\sigma^{'} + \\mu_{i,m}\\mu_{j,m+k}\\sigma^{'} \n",
    "    + \\sigma_{j,m}\\mu_{i,m}^{2} +\n",
    "    \\mu_{i,m}\\sigma_{j,m}\\mu^{'} + \\rho_{ij}\\sigma_{i,m}\\sigma_{j,m}\\sigma^{'} + \\mu_{i,m}\\mu_{j,m}\\sigma^{'} - \\mu_{i,m}\\mu_{j,m+k}\\sigma^{'} - \\sigma_{j,m}\\mu_{i,m}^{2} - \\sigma_{j,m}\\sigma_{i,m}^{2}\n",
    "    ={}& 0\n",
    "    \\\\\n",
    "    \\rho_{ij}\\sigma_{i,m}\\sigma_{j,m}\\sigma^{'} - \\sigma_{j,m}\\sigma_{i,m}^{2} \n",
    "    ={}& 0\n",
    "    \\\\\n",
    "    \\sigma_{i,m}\\sigma_{j,m}\n",
    "    \\left(\n",
    "    \\rho_{ij}\\sigma^{'} - \\sigma_{i,m}\n",
    "    \\right)\n",
    "    ={}&\n",
    "    0\n",
    "    \\\\\n",
    "\\end{align}\n",
    "$$\n"
   ]
  },
  {
   "cell_type": "markdown",
   "id": "0b72b310",
   "metadata": {},
   "source": [
    "Hence:"
   ]
  },
  {
   "cell_type": "markdown",
   "id": "626898d8",
   "metadata": {},
   "source": [
    "\n",
    "$$\n",
    "\\begin{align}\n",
    "    \\sigma^{'} = \\frac{\\sigma_{i,m}}{\\rho_{ij}} \\quad (11)\n",
    "\\end{align}\n",
    "$$\n"
   ]
  },
  {
   "cell_type": "markdown",
   "id": "54616fb6",
   "metadata": {},
   "source": [
    "Note that we assumed $\\sigma_{i,m}$ and $\\sigma_{j,m}$ cannot be zero. Also, since standard deviations are positive, eq(11) is valid only if $\\rho_{ij} \\gt 0$."
   ]
  },
  {
   "cell_type": "markdown",
   "id": "89cd4a74",
   "metadata": {},
   "source": [
    "And, subsituting eq(11) in eq(8):"
   ]
  },
  {
   "cell_type": "markdown",
   "id": "631d7d57",
   "metadata": {},
   "source": [
    "\n",
    "$$\n",
    "\\begin{align}\n",
    "\\sigma_{j,m} \\mu^{'} + \n",
    "    \\left(\\mu_{j,m} - \\mu_{j,m+k}\\right)(\\frac{\\sigma_{i,m}}{\\rho_{ij}}) - \\sigma_{j,m}\\mu_{i,m} \n",
    "    ={}& 0 \n",
    "    \\\\\n",
    "    \\frac{1}{\\sigma_{j,m}}\\left[\n",
    "    \\sigma_{j,m} \\mu^{'} + \n",
    "    \\left(\\mu_{j,m} - \\mu_{j,m+k}\\right)(\\frac{\\sigma_{i,m}}{\\rho_{ij}}) - \\sigma_{j,m}\\mu_{i,m} \n",
    "    \\right]\n",
    "    ={}& 0 \n",
    "    \\\\\n",
    "    \\mu^{'} + \\left(\\mu_{j,m} - \\mu_{j,m+k}\\right)(\\frac{\\sigma_{i,m}}{\\rho_{ij}\\sigma_{j,m}}) - \\mu_{i,m} \n",
    "    ={}& 0 \n",
    "\\end{align}\n",
    "$$\n"
   ]
  },
  {
   "cell_type": "markdown",
   "id": "46693f92",
   "metadata": {},
   "source": [
    "Hence:"
   ]
  },
  {
   "cell_type": "markdown",
   "id": "693ab21d",
   "metadata": {},
   "source": [
    "\n",
    "$$\n",
    "\\begin{align}\n",
    "    \\mu^{'} =  \\mu_{i,m} - \\frac{\\sigma_{i,m}}{\\rho_{ij}\\sigma_{j,m}} \\left(\\mu_{j,m} - \\mu_{j,m+k}\\right) \\quad(12)\n",
    "\\end{align}\n",
    "$$\n",
    "           "
   ]
  },
  {
   "cell_type": "markdown",
   "id": "707daf5b",
   "metadata": {},
   "source": [
    "**Therefore, the critical point of function $f(\\mu^{'},\\sigma^{'})$ is:**"
   ]
  },
  {
   "cell_type": "markdown",
   "id": "9532e72b",
   "metadata": {},
   "source": [
    "\n",
    "$$\n",
    "\\begin{align}\n",
    "    \\sigma^{'} ={}& \n",
    "    \\frac{\\sigma_{i,m}}{\\rho_{ij}} \\quad (11)\n",
    "    \\\\\n",
    "    \\mu^{'} ={}& \n",
    "    \\mu_{i,m} - \\frac{\\sigma_{i,m}}{\\rho_{ij}\\sigma_{j,m}} \\left(\\mu_{j,m} - \\mu_{j,m+k}\\right) \\quad(12)\n",
    "    \\\\\n",
    "\\end{align}\n",
    "$$\n"
   ]
  },
  {
   "cell_type": "markdown",
   "id": "b266cfb2",
   "metadata": {},
   "source": [
    "**NOTE:** It is important to note that eq(11) and eq(12) are favorable to us as they give the $\\mu^{'}$ and $\\sigma^{'}$ of the critical point of `f` as a function of known parameters $\\mu_{i,m}$, $\\sigma_{i,m}$, $\\mu_{j,m}$, $\\sigma_{j,m}$, $\\rho_{ij}$, and $\\mu_{j,m+k}$. Therefore, we can calculate the lower-bound LB as a function of the aforementioned parameters. \n",
    "\n",
    "**NOTE:** It is worthwhile to reiterate the fact that the solution is valid when $\\rho_{ij} \\gt 0$. (We will discuss $\\rho_{ij} \\leq 0$ later...)"
   ]
  },
  {
   "cell_type": "markdown",
   "id": "a0e36dfc",
   "metadata": {},
   "source": [
    "Now that we calculated the values $\\mu^{'}$ and $\\sigma^{'}$ of the crtical point, we need to plug them in the function $f(.)$ to find the extremum value. However, using these values directly in function $f(.)$ might make the calculation difficult. Therefore, we prefer to use higher-level equations (7) and (9) to first simplify $f_{min}(.)$. \n",
    "\n",
    "**NOTE:** we have been solving the single system of equations (5) and (6). Therefore, the calculated values $\\mu^{'}$(11) and $\\sigma^{'}$(12) should satisfy all  equations (5), (6), (7), (8), (9), and (10) discovered throughout the solution. <br>"
   ]
  },
  {
   "cell_type": "markdown",
   "id": "92abd2a2",
   "metadata": {},
   "source": [
    "**Start with equation (3):**"
   ]
  },
  {
   "cell_type": "markdown",
   "id": "b51d32b2",
   "metadata": {},
   "source": [
    "\n",
    "$$\n",
    "\\begin{align}\n",
    "    f(\\mu^{'},\\sigma^{'}) ={}&\n",
    "    \\sum \\limits_{t=1}^{m}\\alpha_{t}^{2}\n",
    "    \\\\\n",
    "    ={}&\n",
    "    \\sum \\limits_{t=1}^{m}\\alpha_{t} \\cdot \\alpha_{t}\n",
    "     \\\\\n",
    "\\end{align}\n",
    "$$\n"
   ]
  },
  {
   "cell_type": "markdown",
   "id": "7afe0a3d",
   "metadata": {},
   "source": [
    "And, we replace one of $\\alpha_{t}$ with its equivalent term provided in eq(4)..."
   ]
  },
  {
   "cell_type": "markdown",
   "id": "bfb10bce",
   "metadata": {},
   "source": [
    "\n",
    "$$\n",
    "\\begin{align}\n",
    "    f_{min}(\\mu^{'},\\sigma^{'}) ={}&\n",
    "    \\sum\\limits_{t=1}^{m}{\n",
    "    {\\alpha_{t}\n",
    "        \\left(\n",
    "        \\frac{T[i+t-1] - \\mu^{'}}{\\sigma^{'}} - \\frac{T[j+t-1] - \\mu_{j,m+k}}{\\sigma_{j,m}}\n",
    "        \\right)\n",
    "        }}\n",
    "    \\\\\n",
    "    ={}&\n",
    "      {\n",
    "        \\frac{1}{\\sigma^{'}}\n",
    "        \\left(\n",
    "        \\sum\\limits_{t=1}^{m}\n",
    "        T[i+t-1]\\alpha_{t} \n",
    "        - \n",
    "        \\sum\\limits_{t=1}^{m}\n",
    "        \\mu^{'}\\alpha_{t}\n",
    "        \\right)\n",
    "        - \\frac{1}{\\sigma_{j,m}}\n",
    "        \\left(\n",
    "        \\sum\\limits_{t=1}^{m}\n",
    "        T[j+t-1]\\alpha_{t} \n",
    "        - \n",
    "        \\sum\\limits_{t=1}^{m}\n",
    "        \\mu_{j,m+k}\\alpha_{t}\n",
    "        \\right)\n",
    "     } \n",
    "    \\\\ \n",
    "    ={}&\n",
    "      {\n",
    "        \\frac{1}{\\sigma^{'}}\n",
    "        \\left(\n",
    "        \\sum\\limits_{t=1}^{m}\n",
    "        T[i+t-1]\\alpha_{t} \n",
    "        - \n",
    "        \\mu^{'}\\sum\\limits_{t=1}^{m}\\alpha_{t}\n",
    "        \\right)\n",
    "        - \n",
    "        \\frac{1}{\\sigma_{j,m}}\n",
    "        \\left(\n",
    "        \\sum\\limits_{t=1}^{m}T[j+t-1]\\alpha_{t} \n",
    "        - \n",
    "        \\mu_{j,m+k}\\sum\\limits_{t=1}^{m}\\alpha_{t}\n",
    "        \\right)\n",
    "     } \n",
    "    \\\\\n",
    "\\end{align}\n",
    "$$\n"
   ]
  },
  {
   "cell_type": "markdown",
   "id": "4a9e3f03",
   "metadata": {},
   "source": [
    "And, now with help of eq(7), $\\sum\\limits_{t=1}^{m}{\\alpha_{t}}=0$, and the eq(9), $\\sum\\limits_{t=1}^{m}{T[i+t-1]\\alpha_{t}}=0$, we will have:"
   ]
  },
  {
   "cell_type": "markdown",
   "id": "650cae87",
   "metadata": {},
   "source": [
    "\n",
    "$$\n",
    "\\begin{align}\n",
    "    f_{min}(\\mu^{'},\\sigma^{'}) ={}&\n",
    "      {\n",
    "        \\frac{1}{\\sigma^{'}}\n",
    "        \\left(\n",
    "        0 - \\mu^{'} \\cdot 0\n",
    "        \\right) \n",
    "        - \n",
    "        \\frac{1}{\\sigma_{j,m}}\n",
    "        \\left(\n",
    "        \\sum\\limits_{t=1}^{m}T[j+t-1]\\alpha_{t} - \\mu_{j,m+k}\\cdot 0\n",
    "        \\right)\n",
    "     } \n",
    "    \\\\ \n",
    "    ={}&\n",
    "      {\n",
    "         - \\frac{1}{\\sigma_{j,m}} \\sum\\limits_{t=1}^{m}T[j+t-1]\\alpha_{t}\n",
    "     } \n",
    "    \\\\\n",
    "    ={}&\n",
    "      {\n",
    "         - \\frac{1}{\\sigma_{j,m}} \n",
    "         \\sum\\limits_{t=1}^{m}{\\left[\n",
    "         T[j+t-1]\\left(\n",
    "         \\frac{T[i+t-1] - \\mu^{'}}{\\sigma^{'}} - \\frac{T[j+t-1] - \\mu_{j,m+k}}{\\sigma_{j,m}}\n",
    "         \\right)\n",
    "         \\right]\n",
    "         }\n",
    "     } \n",
    "    \\\\\n",
    "    ={}&\n",
    "      {\n",
    "         - \\frac{1}{\\sigma_{j,m}} \n",
    "         \\sum\\limits_{t=1}^{m}{\n",
    "         \\left(\n",
    "         \\frac{T[i+t-1]T[j+t-1] - \\mu^{'}T[j+t-1]}{\\sigma^{'}} - \\frac{T[j+t-1]T[j+t-1] - \\mu_{j,m+k}T[j+t-1]}{\\sigma_{j,m}}\n",
    "         \\right)\n",
    "         }\n",
    "     } \n",
    "    \\\\\n",
    "    ={}&\n",
    "      {- \\frac{1}{\\sigma_{j,m}} \n",
    "         {\n",
    "         \\left(\n",
    "         \\frac{\\sum\\limits_{t=1}^{m}T[i+t-1]T[j+t-1] - \\mu^{'}\\sum\\limits_{t=1}^{m}T[j+t-1]}{\\sigma^{'}} \n",
    "         - \n",
    "         \\frac{\\sum\\limits_{t=1}^{m}T[j+t-1]T[j+t-1] - \\mu_{j,m+k}\\sum\\limits_{t=1}^{m}T[j+t-1]}{\\sigma_{j,m}}\n",
    "         \\right)\n",
    "         }\n",
    "     } \n",
    "    \\\\\n",
    "\\end{align}\n",
    "$$\n"
   ]
  },
  {
   "cell_type": "markdown",
   "id": "9f2ca2da",
   "metadata": {},
   "source": [
    "And, now with help of the fact that $\\sum{T} = m\\mu$ and also the Pearon Correlation equation (\\*\\*)..."
   ]
  },
  {
   "cell_type": "markdown",
   "id": "35db152a",
   "metadata": {},
   "source": [
    "\n",
    "$$\n",
    "\\begin{align}\n",
    "    f_{min}(\\mu^{'},\\sigma^{'}) ={}&  \n",
    "      {- \\frac{1}{\\sigma_{j,m}} \n",
    "         {\n",
    "         \\left(\n",
    "         \\frac{(m\\rho_{ij}\\sigma_{i,m}\\sigma_{j,m} + m\\mu_{i,m}\\mu_{j,m}) - \\mu^{'} \\cdot m\\mu_{j,m}}{\\sigma^{'}} \n",
    "         - \n",
    "         \\frac{(m\\rho_{jj}\\sigma_{j,m}^{2} + m\\mu_{j,m}^{2}) - \\mu_{j,m+k} \\cdot m\\mu_{j,m}}{\\sigma_{j,m}}\n",
    "         \\right)\n",
    "         }\n",
    "     } \n",
    "    \\\\\n",
    "    ={}&\n",
    "    {- \\frac{1}{\\sigma_{j,m}} \n",
    "         {\n",
    "         \\left[\n",
    "         \\frac{\n",
    "         m\\left(\n",
    "         \\rho_{ij}\\sigma_{i,m}\\sigma_{j,m} + \\mu_{i,m}\\mu_{j,m} - \\mu^{'} \\cdot \\mu_{j,m}\n",
    "         \\right)\n",
    "         }{\n",
    "         \\sigma^{'}\n",
    "         } \n",
    "         - \n",
    "         \\frac{\n",
    "         m\\left(\n",
    "         1\\cdot\\sigma_{j,m}^{2} + \\mu_{j,m}^{2} - \\mu_{j,m+k} \\cdot \\mu_{j,m}\n",
    "         \\right)\n",
    "         }{\n",
    "         \\sigma_{j,m}\n",
    "         }\n",
    "         \\right]\n",
    "         }\n",
    "     } \n",
    "    \\\\\n",
    "    ={}&\n",
    "      {- \\frac{m}{\\sigma_{j,m}^{2}\\sigma^{'}} \n",
    "         {\n",
    "         \\left(\n",
    "         {\\sigma_{j,m}(\\rho_{ij}\\sigma_{i,m}\\sigma_{j,m} + \\mu_{i,m}\\mu_{j,m} - \\mu_{j,m}\\mu^{'})} \n",
    "         - \n",
    "         {\\sigma^{'}(\\sigma_{j,m}^{2} + \\mu_{j,m}^{2} - \\mu_{j,m}\\mu_{j,m+k})}\n",
    "         \\right)\n",
    "         }\n",
    "     } \n",
    "    \\\\\n",
    "    ={}&\n",
    "      {- \\frac{m}{\\sigma_{j,m}^{2}\\sigma^{'}} \n",
    "         {\n",
    "         \\left(\n",
    "         {\\rho_{ij}\\sigma_{i,m}\\sigma_{j,m}^{2} + \\mu_{i,m}\\mu_{j,m}\\sigma_{j,m} - \\mu_{j,m}\\sigma_{j,m}\\mu^{'}} \n",
    "         - \n",
    "         {\\sigma^{'}(\\sigma_{j,m}^{2} + \\mu_{j,m}^{2} - \\mu_{j,m}\\mu_{j,m+k})}\n",
    "         \\right)\n",
    "         }\n",
    "     } \n",
    "    \\\\\n",
    "\\end{align}\n",
    "$$\n"
   ]
  },
  {
   "cell_type": "markdown",
   "id": "cfd5a617",
   "metadata": {},
   "source": [
    "And, now we are at a good position to plug in the values $\\mu^{'}$(11) and $\\sigma^{'}$(12):"
   ]
  },
  {
   "cell_type": "markdown",
   "id": "f3e25620",
   "metadata": {},
   "source": [
    "\n",
    "$$\n",
    "\\begin{align}\n",
    "    f_{min}(\\mu^{'},\\sigma^{'}) ={}& \n",
    "      {- \\frac{m}{\\sigma_{j,m}^{2}\n",
    "      (\\frac{\\sigma_{i,m}}{\\rho_{ij}})\n",
    "      } \n",
    "         {\n",
    "         \\left[\n",
    "         {\\rho_{ij}\\sigma_{i,m}\\sigma_{j,m}^{2} + \n",
    "         \\mu_{i,m}\\mu_{j,m}\\sigma_{j,m} - \n",
    "         \\mu_{j,m}\\sigma_{j,m}\\left({\n",
    "         \\mu_{i,m} - \\frac{\\sigma_{i,m}}{\\rho_{ij}\\sigma_{j,m}}(\\mu_{j,m}-\\mu_{j,m+k})\n",
    "         }\n",
    "         \\right)} \n",
    "         - \n",
    "         {(\\frac{\\sigma_{i,m}}{\\rho_{ij}})(\\sigma_{j,m}^{2} + \\mu_{j,m}^{2} - \\mu_{j,m}\\mu_{j,m+k})}\n",
    "         \\right]\n",
    "         }\n",
    "     } \n",
    "    \\\\\n",
    "    ={}&\n",
    "    {- \\frac{m\\rho_{ij}}{\\sigma_{j,m}^{2}\\sigma_{i,m}} \n",
    "         {\n",
    "         \\left[\n",
    "         {\\rho_{ij}\\sigma_{i,m}\\sigma_{j,m}^{2} \n",
    "         + \n",
    "         \\mu_{i,m}\\mu_{j,m}\\sigma_{j,m} \n",
    "         - \n",
    "         {\n",
    "         \\mu_{j,m}\\sigma_{j,m}\\mu_{i,m} \n",
    "         + \n",
    "         \\frac{\\sigma_{i,m}}{\\rho_{ij}\\sigma_{j,m}}{\\mu_{j,m}\\sigma_{j,m}}(\\mu_{j,m}-\\mu_{j,m+k})\n",
    "         }\n",
    "         } \n",
    "         - \n",
    "         {\\frac{\\sigma_{i,m}}{\\rho_{ij}}(\\sigma_{j,m}^{2} + \\mu_{j,m}^{2} - \\mu_{j,m}\\mu_{j,m+k})}\n",
    "         \\right]\n",
    "         }\n",
    "     } \n",
    "    \\\\\n",
    "    ={}&\n",
    "    {- \\frac{m}{\\sigma_{j,m}^{2}\\sigma_{i,m}} \n",
    "         {\n",
    "         \\left[\n",
    "         {\\rho_{ij}^{2}\\sigma_{i,m}\\sigma_{j,m}^{2} \n",
    "         + \n",
    "         \\rho_{ij}\\mu_{i,m}\\mu_{j,m}\\sigma_{j,m} \n",
    "         - \n",
    "         {\n",
    "         \\rho_{ij}\\mu_{j,m}\\sigma_{j,m}\\mu_{i,m} \n",
    "         + \n",
    "         \\mu_{j,m}\\sigma_{i,m}(\\mu_{j,m}-\\mu_{j,m+k})\n",
    "         }\n",
    "         } \n",
    "         - \n",
    "         {\\sigma_{i,m}(\\sigma_{j,m}^{2} + \\mu_{j,m}^{2} - \\mu_{j,m}\\mu_{j,m+k})}\n",
    "         \\right]\n",
    "         }\n",
    "     } \n",
    "    \\\\\n",
    "    ={}&\n",
    "    {- \\frac{m}{\\sigma_{j,m}^{2}\\sigma_{i,m}} \n",
    "         {\n",
    "         \\left(\n",
    "         {\\rho_{ij}^{2}\\sigma_{i,m}\\sigma_{j,m}^{2} \n",
    "         + \n",
    "         \\rho_{ij}\\mu_{i,m}\\mu_{j,m}\\sigma_{j,m} \n",
    "         - \n",
    "         {\n",
    "         \\rho_{ij}\\mu_{j,m}\\sigma_{j,m}\\mu_{i,m} \n",
    "         + \n",
    "         \\mu_{j,m}\\sigma_{i,m}\\mu_{j,m} - \\mu_{j,m}\\sigma_{i,m}\\mu_{j,m+k}\n",
    "         }\n",
    "         }\n",
    "         - \n",
    "         {\\sigma_{i,m}\\sigma_{j,m}^{2} - \\sigma_{i,m}\\mu_{j,m}^{2} + \\sigma_{i,m}\\mu_{j,m}\\mu_{j,m+k}}\n",
    "         \\right)\n",
    "         }\n",
    "     } \n",
    "     \\\\\n",
    "        ={}&\n",
    "        {- \\frac{m}{\\sigma_{j,m}^{2}\\sigma_{i,m}}\n",
    "        \\left( \n",
    "         {\\rho_{ij}^{2}\\sigma_{i,m}\\sigma_{j,m}^{2}     \n",
    "         - \n",
    "         \\sigma_{i,m}\\sigma_{j,m}^{2} \n",
    "         }\n",
    "         \\right)\n",
    "     } \n",
    "    \\\\\n",
    "        ={}&\n",
    "        {- \\frac{m}{\\sigma_{j,m}^{2}\\sigma_{i,m}}\n",
    "        (\\rho_{ij}^{2} - 1)\n",
    "        \\sigma_{i,m}\\sigma_{j,m}^{2}\n",
    "        }\n",
    "    \\\\\n",
    "    ={}&\n",
    "    m(1-\\rho_{ij}^{2})\n",
    "\\end{align}    \n",
    "$$\n"
   ]
  },
  {
   "cell_type": "markdown",
   "id": "64dc1027",
   "metadata": {},
   "source": [
    "**Finally, with eq(2), the lower-bound `LB` for distance profile of `T[j:j+m+k]` is as follows:**"
   ]
  },
  {
   "cell_type": "markdown",
   "id": "98db40a5",
   "metadata": {},
   "source": [
    "\n",
    "$$\n",
    "\\begin{align}\n",
    "    LB ={}& \n",
    "        \\frac{\n",
    "        \\sigma_{j,m}\n",
    "        }{\\sigma_{j,m+k}\n",
    "        } \\sqrt{m (1 - \\rho_{ij}^{2})} \\quad \\text{if} \\, \\rho > 0\n",
    "    \\\\\n",
    "\\end{align}\n",
    "$$\n",
    "\n",
    "$$\n",
    "\\begin{align}\n",
    "    \\rho_{ij} ={}& \n",
    "    \\frac{\\sum \\limits_{t=1}^{m}T[i+t-1]T[j+t-1] - m\\mu_{i,m}\\mu_{j,m} }{m\\sigma_{i,m}\\sigma_{j,m}}\n",
    "    \\\\\n",
    "\\end{align}\n",
    "$$\n"
   ]
  },
  {
   "cell_type": "markdown",
   "id": "8cbad624",
   "metadata": {},
   "source": [
    "**Note:** <br>\n",
    "* Note that eq(12) is valid only for $\\rho_{ij} > 0$. Therefore, we can use the formula above to calculate $LB$ only if $\\rho_{ij} > 0$. \n",
    "* The pearson correlation, $\\rho_{ij}$, can be also obtained with help of $ED_{z-norm}$ between subsequences `T[i:i+m]` and `T[j:j+m]`.\n",
    "\n",
    "In fact: $d_{i,j}^{(m)} = \\sqrt{2m(1-\\rho_{ij})}$, where $d_{i,j}^{(m)}$ is the z-norm euclidean distance between two sequences of length `m` that start at index `i` and `j`.\n",
    "\n",
    "**Pending...** <br>\n",
    "* The proof is not complete. We need to take the second derivatives and make sure the discovered values give local minimum and not maximum or saddle point. Also, we need to analyze the behavior of function `f` to verify that this local minimum is actually the global minimum for this function.\n",
    "\n",
    "* **For $\\rho \\leq 0$, the authors claimed that: $LB = \\frac{\\sigma_{j,m}}{\\sigma_{j,m+k}} \\sqrt{m}$.**"
   ]
  },
  {
   "cell_type": "markdown",
   "id": "d34924d4",
   "metadata": {},
   "source": [
    "So far, we derived the first sub-function (i.e. LB for $\\rho_{ij} \\gt 0$) of the piecewise function provided in the eq(2) of the paper VALMOD. <br>\n",
    "Now, we would like to derive the second sub-function, where LB is defined for $\\rho_{ij} \\leq 0$."
   ]
  },
  {
   "cell_type": "markdown",
   "id": "27d5a98b",
   "metadata": {},
   "source": [
    "Let us first visit the equation stated by the authors again:"
   ]
  },
  {
   "cell_type": "markdown",
   "id": "a3bdfcbb",
   "metadata": {},
   "source": [
    "$LB = \\frac{\\sigma_{j,m}}{\\sigma_{j,m+k}} \\sqrt{m}$, if $\\rho_{ij} \\leq 0$"
   ]
  },
  {
   "cell_type": "markdown",
   "id": "bded35a6",
   "metadata": {},
   "source": [
    "Comparing the equation above with eq(2) of notebook, i.e. $LB = \\frac{\\sigma_{j,m}}{\\sigma_{j,m+k}}\\sqrt{\\min f(\\mu^{'},\\sigma^{'})}$, shows that we need to prove:"
   ]
  },
  {
   "cell_type": "markdown",
   "id": "392ab830",
   "metadata": {},
   "source": [
    "\n",
    "$$\n",
    "\\begin{align}\n",
    "f(\\mu^{'}, \\sigma^{'}) \\geq{}& \n",
    "m\n",
    "\\\\\n",
    "\\frac{\n",
    "f(\\mu^{'}, \\sigma^{'})\n",
    "}{\n",
    "m} \\geq{}& 1\n",
    "\\\\\n",
    "\\frac{\n",
    "f(\\mu^{'}, \\sigma^{'})\n",
    "}{\n",
    "m}\n",
    "-\n",
    "1 \\geq{}& 0 \\quad (13)\n",
    "\\end{align} \n",
    "$$"
   ]
  },
  {
   "cell_type": "markdown",
   "id": "2abe5321",
   "metadata": {},
   "source": [
    "Therefore, we need to show (13) is correct when $\\rho_{ij} \\leq 0$.\n",
    "\n",
    "$F \\triangleq  \\frac{f(\\mu^{'}, \\sigma^{'})}{m} - 1$ (14)"
   ]
  },
  {
   "cell_type": "markdown",
   "id": "debdb6a8",
   "metadata": {},
   "source": [
    "We start with eq(3), $f(\\mu^{'}, \\sigma^{'}) = \\sum \\limits_{t=1}^{m} {\\alpha_t^{2}}$, and we replace $\\alpha_{t}$ with its equivalent term, see eq(4). Therefore:"
   ]
  },
  {
   "cell_type": "markdown",
   "id": "5139c4a9",
   "metadata": {},
   "source": [
    "\n",
    "$$\n",
    "\\begin{align}\n",
    "f(\\mu^{'},\\sigma^{'}) ={}& \n",
    "        \\sum \\limits_{t=1}^{m}\n",
    "        \\left(\n",
    "        \\frac{\n",
    "        T[i+t-1] - \\mu^{'}\n",
    "        }{\n",
    "        \\sigma^{'}\n",
    "        } \n",
    "        - \n",
    "        \\frac{\n",
    "        T[j+t-1] - \\mu_{j,m+k}\n",
    "        }{\n",
    "        \\sigma_{j,m}\n",
    "        }\n",
    "        \\right)^{2}\n",
    "        \\quad (15)\n",
    "        \\\\\n",
    "\\end{align}\n",
    "$$\n"
   ]
  },
  {
   "cell_type": "markdown",
   "id": "18136d35",
   "metadata": {},
   "source": [
    "Inside the summation, we use the formula: $(A+B)^{2} = A^{2} + B^{2} - 2AB$"
   ]
  },
  {
   "cell_type": "markdown",
   "id": "672654f3",
   "metadata": {},
   "source": [
    "\n",
    "$$\n",
    "\\begin{align}\n",
    "f(\\mu^{'},\\sigma^{'}) ={}& \n",
    "        \\sum \\limits_{t=1}^{m}\n",
    "        \\left[\n",
    "            \\left(\n",
    "            \\frac{\n",
    "            T[i+t-1] - \\mu^{'}\n",
    "            }{\n",
    "            \\sigma^{'}\n",
    "            }\\right)^{2}\n",
    "         +\n",
    "         \\left(\n",
    "         \\frac{\n",
    "        T[j+t-1] - \\mu_{j,m+k}\n",
    "        }{\n",
    "        \\sigma_{j,m}\n",
    "        }\n",
    "        \\right)^{2}\n",
    "         -\n",
    "         2\n",
    "         \\left(\\frac{\n",
    "            T[i+t-1] - \\mu^{'}\n",
    "            }{\n",
    "            \\sigma^{'}\n",
    "            }\\right)\n",
    "         \\left(\\frac{\n",
    "        T[j+t-1] - \\mu_{j,m+k}\n",
    "        }{\n",
    "        \\sigma_{j,m}\n",
    "        }\n",
    "        \\right)\n",
    "        \\right]\n",
    "        \\\\\n",
    "        \\\\\n",
    "        ={}&\n",
    "        \\sum \\limits_{t=1}^{m}\n",
    "        \\left[\n",
    "            \\left(\n",
    "            \\frac{\n",
    "            T[i+t-1]^{2} + \\mu^{'2} - 2T[i+t-1]\\mu^{'}\n",
    "            }{\n",
    "            \\sigma^{'2}\n",
    "            }\\right)\n",
    "         +\n",
    "         \\left(\n",
    "         \\frac{\n",
    "        T[j+t-1]^{2} + \\mu_{j,m+k}^{2} - 2 T[j+t-1]\\mu_{j,m+k}\n",
    "        }{\n",
    "        \\sigma_{j,m}^{2}\n",
    "        }\n",
    "        \\right)\n",
    "         -\n",
    "         2\n",
    "         \\left(\\frac{\n",
    "            T[i+t-1]T[j+t-1] \n",
    "            - T[i+t-1]\\mu_{j,m+k}\n",
    "            - T[j+t-1]\\mu^{'}\n",
    "            + \\mu^{'}\\mu_{j,m+k}\n",
    "            }{\n",
    "            \\sigma^{'}\\sigma_{j,m}\n",
    "            }\n",
    "        \\right)\n",
    "        \\right]\n",
    "        \\\\\n",
    "\\end{align}\n",
    "$$\n"
   ]
  },
  {
   "cell_type": "markdown",
   "id": "5c6c90c2",
   "metadata": {},
   "source": [
    "Now, we distribute summation into all terms..."
   ]
  },
  {
   "cell_type": "markdown",
   "id": "b68a1419",
   "metadata": {},
   "source": [
    "\n",
    "$$\n",
    "\\begin{align}\n",
    "f(\\mu^{'},\\sigma^{'}) ={}& \n",
    "            \\frac{\n",
    "            \\sum \\limits_{t=1}^{m}T[i+t-1]^{2} + \\sum \\limits_{t=1}^{m}\\mu^{'2} - 2\\mu^{'}\\sum \\limits_{t=1}^{m}T[i+t-1]\n",
    "            }{\n",
    "            \\sigma^{'2}\n",
    "            }\n",
    "         +\n",
    "         \\frac{\n",
    "        \\sum \\limits_{t=1}^{m}T[j+t-1]^{2} + \\sum \\limits_{t=1}^{m}\\mu_{j,m+k}^{2} - 2\\mu_{j,m+k}\\sum \\limits_{t=1}^{m}T[j+t-1]\n",
    "        }{\n",
    "        \\sigma_{j,m}^{2}\n",
    "        }\n",
    "         -\n",
    "         2\n",
    "         \\frac{\n",
    "            \\sum \\limits_{t=1}^{m}T[i+t-1]T[j+t-1] \n",
    "            - \\mu_{j,m+k}\\sum \\limits_{t=1}^{m}T[i+t-1]\n",
    "            - \\mu^{'}\\sum \\limits_{t=1}^{m}T[j+t-1]\n",
    "            + \\sum \\limits_{t=1}^{m}\\mu^{'}\\mu_{j,m+k}\n",
    "            }{\n",
    "            \\sigma^{'}\\sigma_{j,m}\n",
    "            }\n",
    "        \\\\\n",
    "\\end{align}\n",
    "$$\n"
   ]
  },
  {
   "cell_type": "markdown",
   "id": "f9b131ae",
   "metadata": {},
   "source": [
    "With help of Pearson Correlation equation (\\*\\*), we have:"
   ]
  },
  {
   "cell_type": "markdown",
   "id": "7cf643c5",
   "metadata": {},
   "source": [
    "\n",
    "$$\n",
    "\\begin{align}\n",
    "f(\\mu^{'},\\sigma^{'}) ={}& \n",
    "            \\frac{\n",
    "            (m\\rho_{ii}\\sigma_{i,m}^{2} + m\\mu_{i,m}^{2}) + m\\mu^{'2} - 2\\mu^{'}\\cdot m\\mu_{i,m}\n",
    "            }{\n",
    "            \\sigma^{'2}\n",
    "            }\n",
    "         +\n",
    "         \\frac{\n",
    "        (m\\rho_{jj}\\sigma_{j,m}^{2} + m\\mu_{j,m}^{2}) + m\\mu_{j,m+k}^{2} - 2\\mu_{j,m+k}\\cdot m\\mu_{j,m}\n",
    "        }{\n",
    "        \\sigma_{j,m}^{2}\n",
    "        }\n",
    "         -\n",
    "         2\n",
    "         \\frac{\n",
    "            (m\\rho_{ij}\\sigma_{i}\\sigma_{j} + m\\mu_{i}\\mu_{j}) \n",
    "            - \\mu_{j,m+k}\\cdot m\\mu_{i,m}\n",
    "            - \\mu^{'} \\cdot m\\mu_{j,m}\n",
    "            + m\\mu^{'}\\mu_{j,m+k}\n",
    "            }{\n",
    "            \\sigma^{'}\\sigma_{j,m}\n",
    "            }\n",
    "        \\\\\n",
    "\\end{align}\n",
    "$$\n"
   ]
  },
  {
   "cell_type": "markdown",
   "id": "2190c5b2",
   "metadata": {},
   "source": [
    "Recall that $\\rho_{ii}=1$ and $\\rho_{jj}=1$. After subsituting them in the formula above, and factoring out m, we can write it down as:"
   ]
  },
  {
   "cell_type": "markdown",
   "id": "2975a04b",
   "metadata": {},
   "source": [
    "\n",
    "$$\n",
    "\\begin{align}\n",
    "\\frac{f(\\mu^{'},\\sigma^{'})}{m} ={}& \n",
    "            \\frac{\n",
    "            \\sigma_{i,m}^{2} + \\mu_{i,m}^{2} + \\mu^{'2} - 2\\mu^{'}\\mu_{i,m}\n",
    "            }{\n",
    "            \\sigma^{'2}\n",
    "            }\n",
    "         +\n",
    "         \\frac{\n",
    "        \\sigma_{j,m}^{2} + \\mu_{j,m}^{2} + \\mu_{j,m+k}^{2} - 2\\mu_{j,m+k}\\mu_{j,m}\n",
    "        }{\n",
    "        \\sigma_{j,m}^{2}\n",
    "        }\n",
    "         -\n",
    "         2\n",
    "         \\frac{\n",
    "            \\rho_{ij}\\sigma_{i,m}\\sigma_{j,m} + \\mu_{i,m}\\mu_{j,m}\n",
    "            - \\mu_{j,m+k}\\mu_{i,m}\n",
    "            - \\mu^{'} \\mu_{j,m}\n",
    "            + \\mu^{'}\\mu_{j,m+k}\n",
    "            }{\n",
    "            \\sigma^{'}\\sigma_{j,m}\n",
    "            }\n",
    "        \\\\\n",
    "        \\\\\n",
    "        ={}&\n",
    "        \\frac{\n",
    "            \\sigma_{i,m}^{2} + \\mu_{i,m}^{2} + \\mu^{'2} - 2\\mu^{'}\\mu_{i,m}\n",
    "            }{\n",
    "            \\sigma^{'2}\n",
    "            }\n",
    "         +\n",
    "         \\left(1\n",
    "         +\n",
    "         \\frac{\n",
    "        \\mu_{j,m}^{2} + \\mu_{j,m+k}^{2} - 2\\mu_{j,m+k}\\mu_{j,m}\n",
    "        }{\n",
    "        \\sigma_{j,m}^{2}\n",
    "        }\n",
    "        \\right)\n",
    "         -\n",
    "         2\n",
    "         \\frac{\n",
    "            \\rho_{ij}\\sigma_{i,m}\\sigma_{j,m} + \\mu_{i,m}\\mu_{j,m}\n",
    "            - \\mu_{j,m+k}\\mu_{i,m}\n",
    "            - \\mu^{'} \\mu_{j,m}\n",
    "            + \\mu^{'}\\mu_{j,m+k}\n",
    "            }{\n",
    "            \\sigma^{'}\\sigma_{j,m}\n",
    "            }\n",
    "\\end{align}\n",
    "$$\n"
   ]
  },
  {
   "cell_type": "markdown",
   "id": "aa314371",
   "metadata": {},
   "source": [
    "Therefore, we can now see:"
   ]
  },
  {
   "cell_type": "markdown",
   "id": "9812ba37",
   "metadata": {},
   "source": [
    "\n",
    "$$\n",
    "\\begin{align}\n",
    "\\frac{f(\\mu^{'},\\sigma^{'})}{m} - 1 ={}&  \n",
    "        \\frac{\n",
    "            \\sigma_{i,m}^{2} + \\mu_{i,m}^{2} + \\mu^{'2} - 2\\mu^{'}\\mu_{i,m}\n",
    "            }{\n",
    "            \\sigma^{'2}\n",
    "            }\n",
    "         +\n",
    "         \\frac{\n",
    "        \\mu_{j,m}^{2} + \\mu_{j,m+k}^{2} - 2\\mu_{j,m+k}\\mu_{j,m}\n",
    "        }{\n",
    "        \\sigma_{j,m}^{2}\n",
    "        }\n",
    "         -\n",
    "         2\n",
    "         \\frac{\n",
    "            \\rho_{ij}\\sigma_{i,m}\\sigma_{j,m} + \\mu_{i,m}\\mu_{j,m}\n",
    "            - \\mu_{j,m+k}\\mu_{i,m}\n",
    "            - \\mu^{'} \\mu_{j,m}\n",
    "            + \\mu^{'}\\mu_{j,m+k}\n",
    "            }{\n",
    "            \\sigma^{'}\\sigma_{j,m}\n",
    "            }\n",
    "\\end{align}\n",
    "$$\n"
   ]
  },
  {
   "cell_type": "markdown",
   "id": "223936b7",
   "metadata": {},
   "source": [
    "Recall eq(13), $i.e. F=\\frac{f(\\mu^{'},\\sigma^{'})}{m} - 1 \\geq 0$, is equivalent to what claimed in the paper for $\\rho_{ij} \\leq 0$. So, we just need to prove that the right hand side, F, is always positive. "
   ]
  },
  {
   "cell_type": "markdown",
   "id": "bec5c521",
   "metadata": {},
   "source": [
    "\n",
    "$$\n",
    "\\begin{align}\n",
    "        F ={}&  \n",
    "        \\frac{\n",
    "            \\sigma_{i,m}^{2} + \\mu_{i,m}^{2} + \\mu^{'2} - 2\\mu^{'}\\mu_{i,m}\n",
    "            }{\n",
    "            \\sigma^{'2}\n",
    "            }\n",
    "         +\n",
    "         \\frac{\n",
    "        \\mu_{j,m}^{2} + \\mu_{j,m+k}^{2} - 2\\mu_{j,m+k}\\mu_{j,m}\n",
    "        }{\n",
    "        \\sigma_{j,m}^{2}\n",
    "        }\n",
    "         -\n",
    "         2\n",
    "         \\frac{\n",
    "            \\rho_{ij}\\sigma_{i,m}\\sigma_{j,m} + \\mu_{i,m}\\mu_{j,m}\n",
    "            - \\mu_{j,m+k}\\mu_{i,m}\n",
    "            - \\mu^{'} \\mu_{j,m}\n",
    "            + \\mu^{'}\\mu_{j,m+k}\n",
    "            }{\n",
    "            \\sigma^{'}\\sigma_{j,m}\n",
    "            }\n",
    "        \\\\\n",
    "        \\\\\n",
    "        ={}&\n",
    "        \\frac{\n",
    "            \\sigma_{i,m}^{2} + (\\mu_{i,m}^{2} + \\mu^{'2} - 2\\mu^{'}\\mu_{i,m})\n",
    "            }{\n",
    "            \\sigma^{'2}\n",
    "            }\n",
    "         +\n",
    "         \\frac{\n",
    "        (\\mu_{j,m}^{2} + \\mu_{j,m+k}^{2} - 2\\mu_{j,m+k}\\mu_{j,m})\n",
    "        }{\n",
    "        \\sigma_{j,m}^{2}\n",
    "        }\n",
    "         -\n",
    "         2\n",
    "         \\left(\n",
    "         \\frac{\\rho_{ij}\\sigma_{i,m}\\sigma_{j,m}}{\\sigma^{'}\\sigma_{j,m}}\n",
    "         +\n",
    "         \\frac{\\mu_{i,m}\\mu_{j,m}\n",
    "            - \\mu_{j,m+k}\\mu_{i,m}\n",
    "            - \\mu^{'} \\mu_{j,m}\n",
    "            + \\mu^{'}\\mu_{j,m+k}\n",
    "            }{\n",
    "            \\sigma^{'}\\sigma_{j,m}\n",
    "            }\n",
    "         \\right)\n",
    "        \\\\\n",
    "        \\\\\n",
    "        ={}&\n",
    "        \\frac{\n",
    "            \\sigma_{i,m}^{2} + (\\mu_{i,m}-\\mu^{'})^{2}\n",
    "            }{\n",
    "            \\sigma^{'2}\n",
    "            }\n",
    "         +\n",
    "         \\frac{\n",
    "        (\\mu_{j,m} - \\mu_{j,m+k})^{2}\n",
    "        }{\n",
    "        \\sigma_{j,m}^{2}\n",
    "        }\n",
    "         -\n",
    "         2\\frac{\\rho_{ij}\\sigma_{i,m}\\sigma_{j,m}}{\\sigma^{'}\\sigma_{j,m}}\n",
    "         +\n",
    "         2\\frac{\\mu_{i,m}\\mu_{j,m}\n",
    "            - \\mu_{j,m+k}\\mu_{i,m}\n",
    "            - \\mu^{'} \\mu_{j,m}\n",
    "            + \\mu^{'}\\mu_{j,m+k}\n",
    "            }{\n",
    "            \\sigma^{'}\\sigma_{j,m}\n",
    "            }\n",
    "        \\\\\n",
    "        \\geq{}&\n",
    "        \\frac{\\mu_{i,m}\\mu_{j,m}\n",
    "            - \\mu_{j,m+k}\\mu_{i,m}\n",
    "            - \\mu^{'} \\mu_{j,m}\n",
    "            + \\mu^{'}\\mu_{j,m+k}\n",
    "            }{\n",
    "            \\sigma^{'}\\sigma_{j,m}\n",
    "            } \\quad (16)\n",
    "         \\\\   \n",
    "\\end{align}\n",
    "$$\n"
   ]
  },
  {
   "cell_type": "markdown",
   "id": "0074dd7e",
   "metadata": {},
   "source": [
    "Note that the first two terms are non-negative (i.e. $\\geq 0$).The third term is also non-negative because $\\rho_{ij}\\leq 0$. Therefore, we just need to prove the last term is non-negative. Hence, we need to show:"
   ]
  },
  {
   "cell_type": "markdown",
   "id": "fdbf21bd",
   "metadata": {},
   "source": [
    "\n",
    "$$\n",
    "\\begin{align}\n",
    "G \\triangleq{}& \\frac{\\mu_{i,m}\\mu_{j,m}\n",
    "            - \\mu_{j,m+k}\\mu_{i,m}\n",
    "            - \\mu^{'} \\mu_{j,m}\n",
    "            + \\mu^{'}\\mu_{j,m+k}\n",
    "            }{\n",
    "            \\sigma^{'}\\sigma_{j,m}\n",
    "            }\n",
    "           \\geq 0\n",
    "        \\\\\n",
    "\\end{align}\n",
    "$$\n"
   ]
  },
  {
   "cell_type": "markdown",
   "id": "8a8220bd",
   "metadata": {},
   "source": [
    "Let us factorize G as follows:"
   ]
  },
  {
   "cell_type": "markdown",
   "id": "9e49a113",
   "metadata": {},
   "source": [
    "\n",
    "$$\n",
    "\\begin{align}\n",
    "G = {}& \\frac{\\mu_{i,m}(\\mu_{j,m}\n",
    "            - \\mu_{j,m+k})\n",
    "            - \\mu^{'} (\\mu_{j,m}-\\mu_{j,m+k})\n",
    "            }{\n",
    "            \\sigma^{'}\\sigma_{j,m}\n",
    "            }\n",
    "            \\\\\n",
    "            = {}&\n",
    "            \\frac{(\\mu_{i,m}-\\mu^{'})(\\mu_{j,m}-\\mu_{j,m+k})}\n",
    "            {\\sigma^{'}\\sigma_{j,m}} \\quad (17)\n",
    "            \\\\\n",
    "\\end{align}\n",
    "$$\n"
   ]
  },
  {
   "cell_type": "markdown",
   "id": "4cef4acd",
   "metadata": {},
   "source": [
    "**NOTE:** <br>\n",
    "We **cannot** prove eq(17) to be always positive! In fact, it is possible that eq(17) to be negative! For instance, consider a case where subsequence $T_{j,m+k}$ has lower mean compared to $T_{j,m}$. But, its neighbor, at index `i`, has higher mean in $T_{i,m+k}$ compared to $T_{i,m}$. We will investigate this matter shortly with help of `np.random.uniform` time series data."
   ]
  },
  {
   "cell_type": "markdown",
   "id": "952091ef",
   "metadata": {},
   "source": [
    "**NOTE:** <br>\n",
    "Let us take a better look at eq(2) of paper VALMOD. It seems there has been a typo and the authors replace $\\mu_{j,m+k}$ with $\\mu_{j,m}$. (In the paper, the authors used $l$, instead of $m$ as the subsequence length.). Having considered that typo, we can see the the term $\\mu_{j,m}-\\mu_{j,m+k}$ in the numerator of eq(15) becomes 0, and thus we can get to the equation provided in the paper."
   ]
  },
  {
   "cell_type": "markdown",
   "id": "096b25c4",
   "metadata": {},
   "source": [
    "**The correct formula can be achieved as follows:** <br>\n",
    "Based on eq(14),(16), and eq(17):"
   ]
  },
  {
   "cell_type": "markdown",
   "id": "7915ff7e",
   "metadata": {},
   "source": [
    "\n",
    "$$\n",
    "\\begin{align}\n",
    "\\frac{f(\\mu^{'}, \\sigma^{'})}{m} - 1 \\geq{}&\n",
    "\\frac{(\\mu_{i,m}-\\mu^{'})(\\mu_{j,m}-\\mu_{j,m+k})}\n",
    "            {\\sigma^{'}\\sigma_{j,m}}\n",
    "            \\\\\n",
    "            f(\\mu^{'}, \\sigma^{'}) \\geq{}&\n",
    "            m \\left[\n",
    "            \\frac{(\\mu_{i,m}-\\mu^{'})(\\mu_{j,m}-\\mu_{j,m+k})}\n",
    "            {\\sigma^{'}\\sigma_{j,m}} \n",
    "            \\right]\n",
    "            + 1\n",
    "\\end{align}\n",
    "$$\n"
   ]
  },
  {
   "cell_type": "markdown",
   "id": "74bbbd59",
   "metadata": {},
   "source": [
    "And, with help of eq(2), i.e. $LB = \\frac{\\sigma_{j,m}}{\\sigma_{j,m+k}}\\sqrt{\\min f(\\mu^{'},\\sigma^{'})}$, we can claim:"
   ]
  },
  {
   "cell_type": "markdown",
   "id": "88052b40",
   "metadata": {},
   "source": [
    "$$\n",
    "\\begin{align}\n",
    "        LB^{*} ={}&\n",
    "        \\frac{\\sigma_{j,m}}{\\sigma_{j,m+k}}\n",
    "        \\sqrt{\n",
    "            m \\left[\n",
    "            \\frac{(\\mu_{i,m}-\\mu^{'})(\\mu_{j,m}-\\mu_{j,m+k})}\n",
    "            {\\sigma^{'}\\sigma_{j,m}} \n",
    "            \\right]\n",
    "            + 1\n",
    "            } \\quad  (\\rho_{ij} \\leq 0)\n",
    "            \\\\\n",
    "\\end{align}\n",
    "$$"
   ]
  },
  {
   "cell_type": "markdown",
   "id": "02822e09",
   "metadata": {},
   "source": [
    "We used superscript * to distinguish the LB proposed by the paper and the LB achieved by the calculaton of this notebook."
   ]
  },
  {
   "cell_type": "markdown",
   "id": "88edf049",
   "metadata": {},
   "source": [
    "## Validating LB with a test case"
   ]
  },
  {
   "cell_type": "code",
   "execution_count": null,
   "id": "58062d43",
   "metadata": {},
   "outputs": [],
   "source": []
  }
 ],
 "metadata": {
  "kernelspec": {
   "display_name": "Python 3 (ipykernel)",
   "language": "python",
   "name": "python3"
  },
  "language_info": {
   "codemirror_mode": {
    "name": "ipython",
    "version": 3
   },
   "file_extension": ".py",
   "mimetype": "text/x-python",
   "name": "python",
   "nbconvert_exporter": "python",
   "pygments_lexer": "ipython3",
   "version": "3.8.5"
  }
 },
 "nbformat": 4,
 "nbformat_minor": 5
}
